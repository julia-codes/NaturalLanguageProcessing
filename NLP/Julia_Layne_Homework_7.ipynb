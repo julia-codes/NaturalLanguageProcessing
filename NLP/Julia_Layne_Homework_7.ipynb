{
 "cells": [
  {
   "cell_type": "markdown",
   "metadata": {},
   "source": [
    "# NLP Homework 7\n",
    "## Clustering\n",
    "### Julia Layne"
   ]
  },
  {
   "cell_type": "code",
   "execution_count": 3,
   "metadata": {},
   "outputs": [],
   "source": [
    "from nltk.stem import PorterStemmer\n",
    "from nltk.tokenize import sent_tokenize, word_tokenize\n",
    "\n",
    "import nltk\n",
    "import re\n",
    "from nltk.corpus import stopwords\n",
    "from string import punctuation\n",
    "\n",
    "from nltk.metrics import distance\n",
    "import pandas as pd\n",
    "\n",
    "from sklearn.feature_extraction.text import TfidfVectorizer\n",
    "import matplotlib.pyplot as plt\n",
    "from sklearn.cluster import KMeans"
   ]
  },
  {
   "cell_type": "markdown",
   "metadata": {},
   "source": [
    "## Cluster the reviews that you collected in homework 5, by doing the following:\n",
    "\n",
    "### 1.\tIn Python, select any one of the clustering methods covered in this course. Run it over the collection of reviews, and show at least two different ways of clustering the reviews, e.g., changing k in k-Means clustering or changing where you “cut” in Agnes or Diana.  \n",
    "\n",
    " \n"
   ]
  },
  {
   "cell_type": "markdown",
   "metadata": {},
   "source": [
    "Looking at the Elbow Graph for the sum of squared distances bewteen the texts, there apeared to be to bumps in the graph at 4 and a lite one at 6. So I did K-Means clustering with k= 4 and k=6"
   ]
  },
  {
   "cell_type": "markdown",
   "metadata": {},
   "source": [
    "### 2.\tTry to write a short phrase to characterize (give a natural interpretation of) what each cluster is generally centered on semantically. Is this hard to do in some cases? If so, make note of that fact. \n"
   ]
  },
  {
   "cell_type": "markdown",
   "metadata": {},
   "source": [
    "## K-Means = 4\n",
    " - Short Reviews, mostly negative\n",
    " - Low Reviews, or Talking about negative parts of show and telling you to keep watching because it's great\n",
    " - Positive words even in the negative reviews that mention 'brilliant' or 'Amazing---ly Awful'\n",
    " - All from Coming to America\n",
    " \n",
    "It was hard to define the middle two because they were very large clusters. The two outer were much easier to define."
   ]
  },
  {
   "cell_type": "markdown",
   "metadata": {},
   "source": [
    "## K-Means = 6\n",
    " - Mostly negative MidSized reviews; Even positives point out negatives\n",
    " - Mostly negative and Luke-warm reviews\n",
    " - Short reviews, positive for the dark comedy and negative on the regular comedies\n",
    " - Mostly Positive, even the negative reviews are softer: 'The premise is cute and the movie seemed like it was going places'\n",
    " - Mostly Positive, Longer reviews\n",
    " - Two short reviews for I Blame Society\n",
    " "
   ]
  },
  {
   "cell_type": "markdown",
   "metadata": {},
   "source": [
    "### 3.\tExplain which of the two clustering results from question 1 is preferable (if one of them is), and why. \n"
   ]
  },
  {
   "cell_type": "markdown",
   "metadata": {},
   "source": [
    "While K=6 still wasn't clear cut bewteen positive and negative, the clusters were a little easier to find similarity between groups. Even the larger clusters had more similarities between them. I think there is a problem with picking comedy as a genre for comparison of 'positive' and 'negative' reviews. These comedies seem to attract reviewers trying to be funny themselves in the comments. This makes for sarcastic reviews that can look positive to these clustering methods."
   ]
  },
  {
   "cell_type": "markdown",
   "metadata": {},
   "source": [
    "# Code"
   ]
  },
  {
   "cell_type": "code",
   "execution_count": 4,
   "metadata": {},
   "outputs": [
    {
     "data": {
      "text/html": [
       "<div>\n",
       "<style scoped>\n",
       "    .dataframe tbody tr th:only-of-type {\n",
       "        vertical-align: middle;\n",
       "    }\n",
       "\n",
       "    .dataframe tbody tr th {\n",
       "        vertical-align: top;\n",
       "    }\n",
       "\n",
       "    .dataframe thead th {\n",
       "        text-align: right;\n",
       "    }\n",
       "</style>\n",
       "<table border=\"1\" class=\"dataframe\">\n",
       "  <thead>\n",
       "    <tr style=\"text-align: right;\">\n",
       "      <th></th>\n",
       "      <th>URL</th>\n",
       "      <th>SOUP</th>\n",
       "      <th>CONTENT</th>\n",
       "      <th>NP_CHUNK</th>\n",
       "    </tr>\n",
       "  </thead>\n",
       "  <tbody>\n",
       "    <tr>\n",
       "      <th>0</th>\n",
       "      <td>https://www.imdb.com/review/rw6540019/?ref_=tt...</td>\n",
       "      <td>\\n&lt;!DOCTYPE html&gt;\\n\\n&lt;html xmlns:fb=\"http://ww...</td>\n",
       "      <td>It might have been an error on Disney's part t...</td>\n",
       "      <td>['It', 'an', 'error', 'Disney', 'part', 'episo...</td>\n",
       "    </tr>\n",
       "  </tbody>\n",
       "</table>\n",
       "</div>"
      ],
      "text/plain": [
       "                                                 URL  \\\n",
       "0  https://www.imdb.com/review/rw6540019/?ref_=tt...   \n",
       "\n",
       "                                                SOUP  \\\n",
       "0  \\n<!DOCTYPE html>\\n\\n<html xmlns:fb=\"http://ww...   \n",
       "\n",
       "                                             CONTENT  \\\n",
       "0  It might have been an error on Disney's part t...   \n",
       "\n",
       "                                            NP_CHUNK  \n",
       "0  ['It', 'an', 'error', 'Disney', 'part', 'episo...  "
      ]
     },
     "execution_count": 4,
     "metadata": {},
     "output_type": "execute_result"
    }
   ],
   "source": [
    "reviews = pd.read_csv(\"parsed_reviews.csv\")\n",
    "reviews.head(1)"
   ]
  },
  {
   "cell_type": "code",
   "execution_count": 5,
   "metadata": {},
   "outputs": [
    {
     "data": {
      "text/html": [
       "<div>\n",
       "<style scoped>\n",
       "    .dataframe tbody tr th:only-of-type {\n",
       "        vertical-align: middle;\n",
       "    }\n",
       "\n",
       "    .dataframe tbody tr th {\n",
       "        vertical-align: top;\n",
       "    }\n",
       "\n",
       "    .dataframe thead th {\n",
       "        text-align: right;\n",
       "    }\n",
       "</style>\n",
       "<table border=\"1\" class=\"dataframe\">\n",
       "  <thead>\n",
       "    <tr style=\"text-align: right;\">\n",
       "      <th></th>\n",
       "      <th>CONTENT</th>\n",
       "    </tr>\n",
       "  </thead>\n",
       "  <tbody>\n",
       "    <tr>\n",
       "      <th>0</th>\n",
       "      <td>It might have been an error on Disney's part t...</td>\n",
       "    </tr>\n",
       "    <tr>\n",
       "      <th>1</th>\n",
       "      <td>Writing this with bated breath waiting on epis...</td>\n",
       "    </tr>\n",
       "  </tbody>\n",
       "</table>\n",
       "</div>"
      ],
      "text/plain": [
       "                                             CONTENT\n",
       "0  It might have been an error on Disney's part t...\n",
       "1  Writing this with bated breath waiting on epis..."
      ]
     },
     "execution_count": 5,
     "metadata": {},
     "output_type": "execute_result"
    }
   ],
   "source": [
    "content = reviews.drop(['URL', 'SOUP', 'NP_CHUNK'], axis=1)\n",
    "content.head(2)"
   ]
  },
  {
   "cell_type": "code",
   "execution_count": 6,
   "metadata": {},
   "outputs": [
    {
     "data": {
      "text/plain": [
       "0    https://www.imdb.com/review/rw6540019/?ref_=tt...\n",
       "1    https://www.imdb.com/review/rw6562703/?ref_=tt...\n",
       "Name: URL, dtype: object"
      ]
     },
     "execution_count": 6,
     "metadata": {},
     "output_type": "execute_result"
    }
   ],
   "source": [
    "title = reviews.URL\n",
    "title.head(2)"
   ]
  },
  {
   "cell_type": "code",
   "execution_count": 7,
   "metadata": {},
   "outputs": [],
   "source": [
    "#content.head(1)"
   ]
  },
  {
   "cell_type": "code",
   "execution_count": 8,
   "metadata": {},
   "outputs": [],
   "source": [
    "#compareText(reviews.CONTENT[0], reviews.CONTENT[1])"
   ]
  },
  {
   "cell_type": "markdown",
   "metadata": {},
   "source": [
    "https://towardsdatascience.com/clustering-documents-with-python-97314ad6a78d"
   ]
  },
  {
   "cell_type": "code",
   "execution_count": 9,
   "metadata": {},
   "outputs": [],
   "source": [
    "vectorizer = TfidfVectorizer(stop_words={'english'})\n",
    "X = vectorizer.fit_transform(reviews.CONTENT)"
   ]
  },
  {
   "cell_type": "code",
   "execution_count": 10,
   "metadata": {},
   "outputs": [
    {
     "data": {
      "image/png": "[encoded data removed]",
      "text/plain": [
       "<Figure size 432x288 with 1 Axes>"
      ]
     },
     "metadata": {
      "needs_background": "light"
     },
     "output_type": "display_data"
    }
   ],
   "source": [
    "Sum_of_squared_distances = []\n",
    "K = range(2,10)\n",
    "for k in K:\n",
    "   km = KMeans(n_clusters=k, max_iter=200, n_init=10)\n",
    "   km = km.fit(X)\n",
    "   Sum_of_squared_distances.append(km.inertia_)\n",
    "plt.plot(K, Sum_of_squared_distances, 'bx-')\n",
    "plt.xlabel('k')\n",
    "plt.ylabel('Sum_of_squared_distances')\n",
    "plt.title('Elbow Method For Optimal k')\n",
    "plt.show()"
   ]
  },
  {
   "cell_type": "code",
   "execution_count": 11,
   "metadata": {},
   "outputs": [],
   "source": [
    "true_k = 4\n",
    "model = KMeans(n_clusters=true_k, init='k-means++', max_iter=200, n_init=10)\n",
    "model.fit(X)\n",
    "labels=model.labels_\n",
    "review_cl=pd.DataFrame(list(zip(title,labels)),columns=['title','cluster'])"
   ]
  },
  {
   "cell_type": "code",
   "execution_count": 12,
   "metadata": {},
   "outputs": [
    {
     "data": {
      "text/html": [
       "<div>\n",
       "<style scoped>\n",
       "    .dataframe tbody tr th:only-of-type {\n",
       "        vertical-align: middle;\n",
       "    }\n",
       "\n",
       "    .dataframe tbody tr th {\n",
       "        vertical-align: top;\n",
       "    }\n",
       "\n",
       "    .dataframe thead th {\n",
       "        text-align: right;\n",
       "    }\n",
       "</style>\n",
       "<table border=\"1\" class=\"dataframe\">\n",
       "  <thead>\n",
       "    <tr style=\"text-align: right;\">\n",
       "      <th></th>\n",
       "      <th>title</th>\n",
       "      <th>cluster</th>\n",
       "    </tr>\n",
       "  </thead>\n",
       "  <tbody>\n",
       "    <tr>\n",
       "      <th>13</th>\n",
       "      <td>https://www.imdb.com/review/rw6300852/?ref_=tt...</td>\n",
       "      <td>0</td>\n",
       "    </tr>\n",
       "    <tr>\n",
       "      <th>16</th>\n",
       "      <td>https://www.imdb.com/review/rw3413107/?ref_=tt...</td>\n",
       "      <td>0</td>\n",
       "    </tr>\n",
       "  </tbody>\n",
       "</table>\n",
       "</div>"
      ],
      "text/plain": [
       "                                                title  cluster\n",
       "13  https://www.imdb.com/review/rw6300852/?ref_=tt...        0\n",
       "16  https://www.imdb.com/review/rw3413107/?ref_=tt...        0"
      ]
     },
     "execution_count": 12,
     "metadata": {},
     "output_type": "execute_result"
    }
   ],
   "source": [
    "review_cl.sort_values(by=['cluster']).head(2)"
   ]
  },
  {
   "cell_type": "code",
   "execution_count": 26,
   "metadata": {},
   "outputs": [],
   "source": [
    "reviews['cluster'] = review_cl['cluster']"
   ]
  },
  {
   "cell_type": "code",
   "execution_count": 27,
   "metadata": {},
   "outputs": [
    {
     "data": {
      "text/html": [
       "<div>\n",
       "<style scoped>\n",
       "    .dataframe tbody tr th:only-of-type {\n",
       "        vertical-align: middle;\n",
       "    }\n",
       "\n",
       "    .dataframe tbody tr th {\n",
       "        vertical-align: top;\n",
       "    }\n",
       "\n",
       "    .dataframe thead th {\n",
       "        text-align: right;\n",
       "    }\n",
       "</style>\n",
       "<table border=\"1\" class=\"dataframe\">\n",
       "  <thead>\n",
       "    <tr style=\"text-align: right;\">\n",
       "      <th></th>\n",
       "      <th>URL</th>\n",
       "      <th>SOUP</th>\n",
       "      <th>CONTENT</th>\n",
       "      <th>NP_CHUNK</th>\n",
       "      <th>cluster</th>\n",
       "    </tr>\n",
       "  </thead>\n",
       "  <tbody>\n",
       "    <tr>\n",
       "      <th>0</th>\n",
       "      <td>https://www.imdb.com/review/rw6540019/?ref_=tt...</td>\n",
       "      <td>\\n&lt;!DOCTYPE html&gt;\\n\\n&lt;html xmlns:fb=\"http://ww...</td>\n",
       "      <td>It might have been an error on Disney's part t...</td>\n",
       "      <td>['It', 'an', 'error', 'Disney', 'part', 'episo...</td>\n",
       "      <td>2</td>\n",
       "    </tr>\n",
       "    <tr>\n",
       "      <th>1</th>\n",
       "      <td>https://www.imdb.com/review/rw6562703/?ref_=tt...</td>\n",
       "      <td>\\n&lt;!DOCTYPE html&gt;\\n\\n&lt;html xmlns:fb=\"http://ww...</td>\n",
       "      <td>Writing this with bated breath waiting on epis...</td>\n",
       "      <td>['bated', 'breath', 'episode', 'The', 'whole',...</td>\n",
       "      <td>2</td>\n",
       "    </tr>\n",
       "    <tr>\n",
       "      <th>2</th>\n",
       "      <td>https://www.imdb.com/review/rw6650913/?ref_=tt...</td>\n",
       "      <td>\\n&lt;!DOCTYPE html&gt;\\n\\n&lt;html xmlns:fb=\"http://ww...</td>\n",
       "      <td>One might wonder that the above adjectives do ...</td>\n",
       "      <td>['the', 'above', 'adjectives', 'the', 'Marvel'...</td>\n",
       "      <td>2</td>\n",
       "    </tr>\n",
       "    <tr>\n",
       "      <th>3</th>\n",
       "      <td>https://www.imdb.com/review/rw6603814/?ref_=tt...</td>\n",
       "      <td>\\n&lt;!DOCTYPE html&gt;\\n\\n&lt;html xmlns:fb=\"http://ww...</td>\n",
       "      <td>I can't speak for the reviews that bash this s...</td>\n",
       "      <td>['I', 'the', 'reviews', 'this', 'show', 'three...</td>\n",
       "      <td>2</td>\n",
       "    </tr>\n",
       "    <tr>\n",
       "      <th>4</th>\n",
       "      <td>https://www.imdb.com/review/rw6479388/?ref_=tt...</td>\n",
       "      <td>\\n&lt;!DOCTYPE html&gt;\\n\\n&lt;html xmlns:fb=\"http://ww...</td>\n",
       "      <td>What a waste $25 Million Dollars A episode don...</td>\n",
       "      <td>['a', 'waste', '25', 'Million', 'Dollars', 'A'...</td>\n",
       "      <td>2</td>\n",
       "    </tr>\n",
       "  </tbody>\n",
       "</table>\n",
       "</div>"
      ],
      "text/plain": [
       "                                                 URL  \\\n",
       "0  https://www.imdb.com/review/rw6540019/?ref_=tt...   \n",
       "1  https://www.imdb.com/review/rw6562703/?ref_=tt...   \n",
       "2  https://www.imdb.com/review/rw6650913/?ref_=tt...   \n",
       "3  https://www.imdb.com/review/rw6603814/?ref_=tt...   \n",
       "4  https://www.imdb.com/review/rw6479388/?ref_=tt...   \n",
       "\n",
       "                                                SOUP  \\\n",
       "0  \\n<!DOCTYPE html>\\n\\n<html xmlns:fb=\"http://ww...   \n",
       "1  \\n<!DOCTYPE html>\\n\\n<html xmlns:fb=\"http://ww...   \n",
       "2  \\n<!DOCTYPE html>\\n\\n<html xmlns:fb=\"http://ww...   \n",
       "3  \\n<!DOCTYPE html>\\n\\n<html xmlns:fb=\"http://ww...   \n",
       "4  \\n<!DOCTYPE html>\\n\\n<html xmlns:fb=\"http://ww...   \n",
       "\n",
       "                                             CONTENT  \\\n",
       "0  It might have been an error on Disney's part t...   \n",
       "1  Writing this with bated breath waiting on epis...   \n",
       "2  One might wonder that the above adjectives do ...   \n",
       "3  I can't speak for the reviews that bash this s...   \n",
       "4  What a waste $25 Million Dollars A episode don...   \n",
       "\n",
       "                                            NP_CHUNK  cluster  \n",
       "0  ['It', 'an', 'error', 'Disney', 'part', 'episo...        2  \n",
       "1  ['bated', 'breath', 'episode', 'The', 'whole',...        2  \n",
       "2  ['the', 'above', 'adjectives', 'the', 'Marvel'...        2  \n",
       "3  ['I', 'the', 'reviews', 'this', 'show', 'three...        2  \n",
       "4  ['a', 'waste', '25', 'Million', 'Dollars', 'A'...        2  "
      ]
     },
     "execution_count": 27,
     "metadata": {},
     "output_type": "execute_result"
    }
   ],
   "source": [
    "reviews.head()"
   ]
  },
  {
   "cell_type": "code",
   "execution_count": 30,
   "metadata": {},
   "outputs": [],
   "source": [
    "reviews['cluster'] = review_cl['cluster']\n",
    "reviews.to_csv(r'parsed_reviews_clustered4.csv', index = False)"
   ]
  },
  {
   "cell_type": "markdown",
   "metadata": {},
   "source": [
    "Short Reviews, mostly negative"
   ]
  },
  {
   "cell_type": "code",
   "execution_count": 13,
   "metadata": {},
   "outputs": [],
   "source": [
    "filter0 = review_cl['cluster']==0\n",
    "review0 = review_cl.copy()\n",
    "review0.where(filter0, inplace = True)\n",
    "#review0.dropna()"
   ]
  },
  {
   "cell_type": "markdown",
   "metadata": {},
   "source": [
    "I blame SOciety, Low Reviews, or Talking about negative parts of show and telling you to keep watching because it's great"
   ]
  },
  {
   "cell_type": "code",
   "execution_count": 14,
   "metadata": {},
   "outputs": [],
   "source": [
    "filter1 = review_cl['cluster']==1\n",
    "review1 = review_cl.copy()\n",
    "review1.where(filter1, inplace = True)\n",
    "#review1.dropna()"
   ]
  },
  {
   "cell_type": "markdown",
   "metadata": {},
   "source": [
    "Positive words even in the negative reviews that mention 'brilliant' or 'Amazing---ly Awful'"
   ]
  },
  {
   "cell_type": "code",
   "execution_count": 15,
   "metadata": {},
   "outputs": [],
   "source": [
    "filter2 = review_cl['cluster']==2\n",
    "review2 = review_cl.copy()\n",
    "review2.where(filter2, inplace = True)\n",
    "#review2.dropna()"
   ]
  },
  {
   "cell_type": "markdown",
   "metadata": {},
   "source": [
    "All from Coming to America"
   ]
  },
  {
   "cell_type": "code",
   "execution_count": 16,
   "metadata": {},
   "outputs": [],
   "source": [
    "filter3 = review_cl['cluster']==3\n",
    "review3 = review_cl.copy()\n",
    "review3.where(filter3, inplace = True)\n",
    "#review3.dropna()"
   ]
  },
  {
   "cell_type": "markdown",
   "metadata": {},
   "source": [
    "# K-Means 6"
   ]
  },
  {
   "cell_type": "code",
   "execution_count": 17,
   "metadata": {},
   "outputs": [],
   "source": [
    "\n",
    "true_k = 6\n",
    "model6 = KMeans(n_clusters=true_k, init='k-means++', max_iter=200, n_init=10)\n",
    "model6.fit(X)\n",
    "labels6=model6.labels_\n",
    "review_cl6=pd.DataFrame(list(zip(title,labels6)),columns=['title','cluster'])"
   ]
  },
  {
   "cell_type": "code",
   "execution_count": 32,
   "metadata": {},
   "outputs": [],
   "source": [
    "reviews['cluster'] = review_cl6['cluster']\n",
    "reviews.to_csv(r'parsed_reviews_clustered6.csv', index = False)"
   ]
  },
  {
   "cell_type": "markdown",
   "metadata": {},
   "source": [
    "Mostly negative MidSized reviews\n",
    "Even positives point out negatives"
   ]
  },
  {
   "cell_type": "code",
   "execution_count": 18,
   "metadata": {},
   "outputs": [],
   "source": [
    "filter0 = review_cl6['cluster']==0\n",
    "review0 = review_cl6.copy()\n",
    "review0.where(filter0, inplace = True)\n",
    "#review0.dropna()"
   ]
  },
  {
   "cell_type": "markdown",
   "metadata": {},
   "source": [
    "Mostly negative and Luke-warm reviews"
   ]
  },
  {
   "cell_type": "code",
   "execution_count": 19,
   "metadata": {},
   "outputs": [],
   "source": [
    "filter1 = review_cl6['cluster']==1\n",
    "review1 = review_cl6.copy()\n",
    "review1.where(filter1, inplace = True)\n",
    "#review1.dropna()"
   ]
  },
  {
   "cell_type": "markdown",
   "metadata": {},
   "source": [
    "Short reviews, positive for the dark comedy and negative on the regular comedies"
   ]
  },
  {
   "cell_type": "code",
   "execution_count": 20,
   "metadata": {},
   "outputs": [],
   "source": [
    "filter2 = review_cl6['cluster']==2\n",
    "review2 = review_cl6.copy()\n",
    "review2.where(filter2, inplace = True)\n",
    "#review2.dropna()"
   ]
  },
  {
   "cell_type": "markdown",
   "metadata": {},
   "source": [
    "WandaVision, Schitt's Creek, Office, Modern Family, Crew, Brooklyn 99, Parks and Rec, Community\n",
    "Mostly Positive, even the negative reviews are softer: \n",
    "'The premise is cute and the movie seemed like it was going places'"
   ]
  },
  {
   "cell_type": "code",
   "execution_count": 21,
   "metadata": {},
   "outputs": [],
   "source": [
    "filter3 = review_cl6['cluster']==3\n",
    "review3 = review_cl6.copy()\n",
    "review3.where(filter3, inplace = True)\n",
    "#review3.dropna()"
   ]
  },
  {
   "cell_type": "markdown",
   "metadata": {},
   "source": [
    "Mostly Positive, Longer reviews\n",
    "Friends, Schitts Creek, Modern Family, Coming to America"
   ]
  },
  {
   "cell_type": "code",
   "execution_count": 22,
   "metadata": {},
   "outputs": [],
   "source": [
    "filter4 = review_cl6['cluster']==4\n",
    "review4 = review_cl6.copy()\n",
    "review4.where(filter4, inplace = True)\n",
    "#review4.dropna()"
   ]
  },
  {
   "cell_type": "markdown",
   "metadata": {},
   "source": [
    "Two short reviews for I Blame Society"
   ]
  },
  {
   "cell_type": "code",
   "execution_count": 23,
   "metadata": {},
   "outputs": [],
   "source": [
    "filter5 = review_cl6['cluster']==5\n",
    "review5 = review_cl6.copy()\n",
    "review5.where(filter5, inplace = True)\n",
    "#review5.dropna()"
   ]
  },
  {
   "cell_type": "code",
   "execution_count": null,
   "metadata": {},
   "outputs": [],
   "source": []
  },
  {
   "cell_type": "code",
   "execution_count": null,
   "metadata": {},
   "outputs": [],
   "source": []
  },
  {
   "cell_type": "markdown",
   "metadata": {},
   "source": [
    "Submit all of your inputs and outputs and your code for this assignment, along with a brief written explanation of your findings.\n"
   ]
  },
  {
   "cell_type": "code",
   "execution_count": null,
   "metadata": {},
   "outputs": [],
   "source": []
  },
  {
   "cell_type": "code",
   "execution_count": 24,
   "metadata": {},
   "outputs": [
    {
     "data": {
      "image/png": "[encoded data removed]",
      "text/plain": [
       "<Figure size 432x288 with 1 Axes>"
      ]
     },
     "metadata": {
      "needs_background": "light"
     },
     "output_type": "display_data"
    }
   ],
   "source": [
    "plt.plot(K, Sum_of_squared_distances, 'bx-')\n",
    "plt.xlabel('k')\n",
    "plt.ylabel('Sum_of_squared_distances')\n",
    "plt.title('Elbow Method For Optimal k')\n",
    "plt.show()"
   ]
  },
  {
   "cell_type": "code",
   "execution_count": null,
   "metadata": {},
   "outputs": [],
   "source": []
  }
 ],
 "metadata": {
  "kernelspec": {
   "display_name": "Python 3",
   "language": "python",
   "name": "python3"
  },
  "language_info": {
   "codemirror_mode": {
    "name": "ipython",
    "version": 3
   },
   "file_extension": ".py",
   "mimetype": "text/x-python",
   "name": "python",
   "nbconvert_exporter": "python",
   "pygments_lexer": "ipython3",
   "version": "3.8.3"
  }
 },
 "nbformat": 4,
 "nbformat_minor": 4
}
