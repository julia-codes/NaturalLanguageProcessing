{
 "cells": [
  {
   "cell_type": "markdown",
   "metadata": {},
   "source": [
    "# NLP Homework 7\n",
    "## Clustering\n",
    "### Julia Layne"
   ]
  },
  {
   "cell_type": "code",
   "execution_count": 84,
   "metadata": {},
   "outputs": [],
   "source": [
    "from nltk.stem import PorterStemmer\n",
    "from nltk.tokenize import sent_tokenize, word_tokenize\n",
    "\n",
    "import nltk\n",
    "import re\n",
    "from nltk.corpus import stopwords\n",
    "from string import punctuation\n",
    "\n",
    "from nltk.metrics import distance\n",
    "import pandas as pd\n",
    "\n",
    "from sklearn.feature_extraction.text import TfidfVectorizer\n",
    "import matplotlib.pyplot as plt\n",
    "from sklearn.cluster import KMeans"
   ]
  },
  {
   "cell_type": "markdown",
   "metadata": {},
   "source": [
    "## Cluster the reviews that you collected in homework 5, by doing the following:\n",
    "\n",
    "### 1.\tIn Python, select any one of the clustering methods covered in this course. Run it over the collection of reviews, and show at least two different ways of clustering the reviews, e.g., changing k in k-Means clustering or changing where you “cut” in Agnes or Diana.  \n",
    "\n",
    " \n"
   ]
  },
  {
   "cell_type": "markdown",
   "metadata": {},
   "source": [
    "Looking at the Elbow Graph for the sum of squared distances bewteen the texts, there apeared to be to bumps in the graph at 4 and a lite one at 6. So I did K-Means clustering with k= 4 and k=6"
   ]
  },
  {
   "cell_type": "markdown",
   "metadata": {},
   "source": [
    "### 2.\tTry to write a short phrase to characterize (give a natural interpretation of) what each cluster is generally centered on semantically. Is this hard to do in some cases? If so, make note of that fact. \n"
   ]
  },
  {
   "cell_type": "markdown",
   "metadata": {},
   "source": [
    "## K-Means = 4\n",
    " - Short Reviews, mostly negative\n",
    " - Low Reviews, or Talking about negative parts of show and telling you to keep watching because it's great\n",
    " - Positive words even in the negative reviews that mention 'brilliant' or 'Amazing---ly Awful'\n",
    " - All from Coming to America\n",
    " \n",
    "It was hard to define the middle two because they were very large clusters. The two outer were much easier to define."
   ]
  },
  {
   "cell_type": "markdown",
   "metadata": {},
   "source": [
    "## K-Means = 6\n",
    " - Mostly negative MidSized reviews; Even positives point out negatives\n",
    " - Mostly negative and Luke-warm reviews\n",
    " - Short reviews, positive for the dark comedy and negative on the regular comedies\n",
    " - Mostly Positive, even the negative reviews are softer: 'The premise is cute and the movie seemed like it was going places'\n",
    " - Mostly Positive, Longer reviews\n",
    " - Two short reviews for I Blame Society\n",
    " "
   ]
  },
  {
   "cell_type": "markdown",
   "metadata": {},
   "source": [
    "### 3.\tExplain which of the two clustering results from question 1 is preferable (if one of them is), and why. \n"
   ]
  },
  {
   "cell_type": "markdown",
   "metadata": {},
   "source": [
    "While K=6 still wasn't clear cut bewteen positive and negative, the clusters were a little easier to find similarity between groups. Even the larger clusters had more similarities between them. I think there is a problem with picking comedy as a genre for comparison of 'positive' and 'negative' reviews. These comedies seem to attract reviewers trying to be funny themselves in the comments. This makes for sarcastic reviews that can look positive to these clustering methods."
   ]
  },
  {
   "cell_type": "markdown",
   "metadata": {},
   "source": [
    "# Code"
   ]
  },
  {
   "cell_type": "code",
   "execution_count": 85,
   "metadata": {},
   "outputs": [
    {
     "data": {
      "text/html": [
       "<div>\n",
       "<style scoped>\n",
       "    .dataframe tbody tr th:only-of-type {\n",
       "        vertical-align: middle;\n",
       "    }\n",
       "\n",
       "    .dataframe tbody tr th {\n",
       "        vertical-align: top;\n",
       "    }\n",
       "\n",
       "    .dataframe thead th {\n",
       "        text-align: right;\n",
       "    }\n",
       "</style>\n",
       "<table border=\"1\" class=\"dataframe\">\n",
       "  <thead>\n",
       "    <tr style=\"text-align: right;\">\n",
       "      <th></th>\n",
       "      <th>URL</th>\n",
       "      <th>SOUP</th>\n",
       "      <th>CONTENT</th>\n",
       "      <th>NP_CHUNK</th>\n",
       "    </tr>\n",
       "  </thead>\n",
       "  <tbody>\n",
       "    <tr>\n",
       "      <th>0</th>\n",
       "      <td>https://www.imdb.com/review/rw6540019/?ref_=tt...</td>\n",
       "      <td>\\n&lt;!DOCTYPE html&gt;\\n\\n&lt;html xmlns:fb=\"http://ww...</td>\n",
       "      <td>It might have been an error on Disney's part t...</td>\n",
       "      <td>['It', 'an', 'error', 'Disney', 'part', 'episo...</td>\n",
       "    </tr>\n",
       "  </tbody>\n",
       "</table>\n",
       "</div>"
      ],
      "text/plain": [
       "                                                 URL  \\\n",
       "0  https://www.imdb.com/review/rw6540019/?ref_=tt...   \n",
       "\n",
       "                                                SOUP  \\\n",
       "0  \\n<!DOCTYPE html>\\n\\n<html xmlns:fb=\"http://ww...   \n",
       "\n",
       "                                             CONTENT  \\\n",
       "0  It might have been an error on Disney's part t...   \n",
       "\n",
       "                                            NP_CHUNK  \n",
       "0  ['It', 'an', 'error', 'Disney', 'part', 'episo...  "
      ]
     },
     "execution_count": 85,
     "metadata": {},
     "output_type": "execute_result"
    }
   ],
   "source": [
    "reviews = pd.read_csv(\"parsed_reviews.csv\")\n",
    "reviews.head(1)"
   ]
  },
  {
   "cell_type": "code",
   "execution_count": 86,
   "metadata": {},
   "outputs": [
    {
     "data": {
      "text/html": [
       "<div>\n",
       "<style scoped>\n",
       "    .dataframe tbody tr th:only-of-type {\n",
       "        vertical-align: middle;\n",
       "    }\n",
       "\n",
       "    .dataframe tbody tr th {\n",
       "        vertical-align: top;\n",
       "    }\n",
       "\n",
       "    .dataframe thead th {\n",
       "        text-align: right;\n",
       "    }\n",
       "</style>\n",
       "<table border=\"1\" class=\"dataframe\">\n",
       "  <thead>\n",
       "    <tr style=\"text-align: right;\">\n",
       "      <th></th>\n",
       "      <th>CONTENT</th>\n",
       "    </tr>\n",
       "  </thead>\n",
       "  <tbody>\n",
       "    <tr>\n",
       "      <th>0</th>\n",
       "      <td>It might have been an error on Disney's part t...</td>\n",
       "    </tr>\n",
       "    <tr>\n",
       "      <th>1</th>\n",
       "      <td>Writing this with bated breath waiting on epis...</td>\n",
       "    </tr>\n",
       "  </tbody>\n",
       "</table>\n",
       "</div>"
      ],
      "text/plain": [
       "                                             CONTENT\n",
       "0  It might have been an error on Disney's part t...\n",
       "1  Writing this with bated breath waiting on epis..."
      ]
     },
     "execution_count": 86,
     "metadata": {},
     "output_type": "execute_result"
    }
   ],
   "source": [
    "content = reviews.drop(['URL', 'SOUP', 'NP_CHUNK'], axis=1)\n",
    "content.head(2)"
   ]
  },
  {
   "cell_type": "code",
   "execution_count": 87,
   "metadata": {},
   "outputs": [
    {
     "data": {
      "text/plain": [
       "0    https://www.imdb.com/review/rw6540019/?ref_=tt...\n",
       "1    https://www.imdb.com/review/rw6562703/?ref_=tt...\n",
       "Name: URL, dtype: object"
      ]
     },
     "execution_count": 87,
     "metadata": {},
     "output_type": "execute_result"
    }
   ],
   "source": [
    "title = reviews.URL\n",
    "title.head(2)"
   ]
  },
  {
   "cell_type": "code",
   "execution_count": 88,
   "metadata": {},
   "outputs": [],
   "source": [
    "#content.head(1)"
   ]
  },
  {
   "cell_type": "code",
   "execution_count": 89,
   "metadata": {},
   "outputs": [],
   "source": [
    "#compareText(reviews.CONTENT[0], reviews.CONTENT[1])"
   ]
  },
  {
   "cell_type": "markdown",
   "metadata": {},
   "source": [
    "https://towardsdatascience.com/clustering-documents-with-python-97314ad6a78d"
   ]
  },
  {
   "cell_type": "code",
   "execution_count": 90,
   "metadata": {},
   "outputs": [],
   "source": [
    "vectorizer = TfidfVectorizer(stop_words={'english'})\n",
    "X = vectorizer.fit_transform(reviews.CONTENT)"
   ]
  },
  {
   "cell_type": "code",
   "execution_count": 91,
   "metadata": {},
   "outputs": [
    {
     "data": {
      "image/png": "[encoded data removed]",
      "text/plain": [
       "<Figure size 432x288 with 1 Axes>"
      ]
     },
     "metadata": {
      "needs_background": "light"
     },
     "output_type": "display_data"
    }
   ],
   "source": [
    "Sum_of_squared_distances = []\n",
    "K = range(2,10)\n",
    "for k in K:\n",
    "   km = KMeans(n_clusters=k, max_iter=200, n_init=10)\n",
    "   km = km.fit(X)\n",
    "   Sum_of_squared_distances.append(km.inertia_)\n",
    "plt.plot(K, Sum_of_squared_distances, 'bx-')\n",
    "plt.xlabel('k')\n",
    "plt.ylabel('Sum_of_squared_distances')\n",
    "plt.title('Elbow Method For Optimal k')\n",
    "plt.show()"
   ]
  },
  {
   "cell_type": "code",
   "execution_count": 92,
   "metadata": {},
   "outputs": [],
   "source": [
    "true_k = 4\n",
    "model = KMeans(n_clusters=true_k, init='k-means++', max_iter=200, n_init=10)\n",
    "model.fit(X)\n",
    "labels=model.labels_\n",
    "review_cl=pd.DataFrame(list(zip(title,labels)),columns=['title','cluster'])"
   ]
  },
  {
   "cell_type": "code",
   "execution_count": 93,
   "metadata": {},
   "outputs": [
    {
     "data": {
      "text/html": [
       "<div>\n",
       "<style scoped>\n",
       "    .dataframe tbody tr th:only-of-type {\n",
       "        vertical-align: middle;\n",
       "    }\n",
       "\n",
       "    .dataframe tbody tr th {\n",
       "        vertical-align: top;\n",
       "    }\n",
       "\n",
       "    .dataframe thead th {\n",
       "        text-align: right;\n",
       "    }\n",
       "</style>\n",
       "<table border=\"1\" class=\"dataframe\">\n",
       "  <thead>\n",
       "    <tr style=\"text-align: right;\">\n",
       "      <th></th>\n",
       "      <th>title</th>\n",
       "      <th>cluster</th>\n",
       "    </tr>\n",
       "  </thead>\n",
       "  <tbody>\n",
       "    <tr>\n",
       "      <th>77</th>\n",
       "      <td>https://www.imdb.com/review/rw5534894/?ref_=tt...</td>\n",
       "      <td>0</td>\n",
       "    </tr>\n",
       "    <tr>\n",
       "      <th>2</th>\n",
       "      <td>https://www.imdb.com/review/rw6650913/?ref_=tt...</td>\n",
       "      <td>0</td>\n",
       "    </tr>\n",
       "  </tbody>\n",
       "</table>\n",
       "</div>"
      ],
      "text/plain": [
       "                                                title  cluster\n",
       "77  https://www.imdb.com/review/rw5534894/?ref_=tt...        0\n",
       "2   https://www.imdb.com/review/rw6650913/?ref_=tt...        0"
      ]
     },
     "execution_count": 93,
     "metadata": {},
     "output_type": "execute_result"
    }
   ],
   "source": [
    "review_cl.sort_values(by=['cluster']).head(2)"
   ]
  },
  {
   "cell_type": "code",
   "execution_count": 94,
   "metadata": {},
   "outputs": [],
   "source": [
    "reviews['cluster'] = review_cl['cluster']"
   ]
  },
  {
   "cell_type": "code",
   "execution_count": 95,
   "metadata": {},
   "outputs": [
    {
     "data": {
      "text/html": [
       "<div>\n",
       "<style scoped>\n",
       "    .dataframe tbody tr th:only-of-type {\n",
       "        vertical-align: middle;\n",
       "    }\n",
       "\n",
       "    .dataframe tbody tr th {\n",
       "        vertical-align: top;\n",
       "    }\n",
       "\n",
       "    .dataframe thead th {\n",
       "        text-align: right;\n",
       "    }\n",
       "</style>\n",
       "<table border=\"1\" class=\"dataframe\">\n",
       "  <thead>\n",
       "    <tr style=\"text-align: right;\">\n",
       "      <th></th>\n",
       "      <th>URL</th>\n",
       "      <th>SOUP</th>\n",
       "      <th>CONTENT</th>\n",
       "      <th>NP_CHUNK</th>\n",
       "      <th>cluster</th>\n",
       "    </tr>\n",
       "  </thead>\n",
       "  <tbody>\n",
       "    <tr>\n",
       "      <th>0</th>\n",
       "      <td>https://www.imdb.com/review/rw6540019/?ref_=tt...</td>\n",
       "      <td>\\n&lt;!DOCTYPE html&gt;\\n\\n&lt;html xmlns:fb=\"http://ww...</td>\n",
       "      <td>It might have been an error on Disney's part t...</td>\n",
       "      <td>['It', 'an', 'error', 'Disney', 'part', 'episo...</td>\n",
       "      <td>1</td>\n",
       "    </tr>\n",
       "    <tr>\n",
       "      <th>1</th>\n",
       "      <td>https://www.imdb.com/review/rw6562703/?ref_=tt...</td>\n",
       "      <td>\\n&lt;!DOCTYPE html&gt;\\n\\n&lt;html xmlns:fb=\"http://ww...</td>\n",
       "      <td>Writing this with bated breath waiting on epis...</td>\n",
       "      <td>['bated', 'breath', 'episode', 'The', 'whole',...</td>\n",
       "      <td>1</td>\n",
       "    </tr>\n",
       "    <tr>\n",
       "      <th>2</th>\n",
       "      <td>https://www.imdb.com/review/rw6650913/?ref_=tt...</td>\n",
       "      <td>\\n&lt;!DOCTYPE html&gt;\\n\\n&lt;html xmlns:fb=\"http://ww...</td>\n",
       "      <td>One might wonder that the above adjectives do ...</td>\n",
       "      <td>['the', 'above', 'adjectives', 'the', 'Marvel'...</td>\n",
       "      <td>0</td>\n",
       "    </tr>\n",
       "    <tr>\n",
       "      <th>3</th>\n",
       "      <td>https://www.imdb.com/review/rw6603814/?ref_=tt...</td>\n",
       "      <td>\\n&lt;!DOCTYPE html&gt;\\n\\n&lt;html xmlns:fb=\"http://ww...</td>\n",
       "      <td>I can't speak for the reviews that bash this s...</td>\n",
       "      <td>['I', 'the', 'reviews', 'this', 'show', 'three...</td>\n",
       "      <td>0</td>\n",
       "    </tr>\n",
       "    <tr>\n",
       "      <th>4</th>\n",
       "      <td>https://www.imdb.com/review/rw6479388/?ref_=tt...</td>\n",
       "      <td>\\n&lt;!DOCTYPE html&gt;\\n\\n&lt;html xmlns:fb=\"http://ww...</td>\n",
       "      <td>What a waste $25 Million Dollars A episode don...</td>\n",
       "      <td>['a', 'waste', '25', 'Million', 'Dollars', 'A'...</td>\n",
       "      <td>0</td>\n",
       "    </tr>\n",
       "  </tbody>\n",
       "</table>\n",
       "</div>"
      ],
      "text/plain": [
       "                                                 URL  \\\n",
       "0  https://www.imdb.com/review/rw6540019/?ref_=tt...   \n",
       "1  https://www.imdb.com/review/rw6562703/?ref_=tt...   \n",
       "2  https://www.imdb.com/review/rw6650913/?ref_=tt...   \n",
       "3  https://www.imdb.com/review/rw6603814/?ref_=tt...   \n",
       "4  https://www.imdb.com/review/rw6479388/?ref_=tt...   \n",
       "\n",
       "                                                SOUP  \\\n",
       "0  \\n<!DOCTYPE html>\\n\\n<html xmlns:fb=\"http://ww...   \n",
       "1  \\n<!DOCTYPE html>\\n\\n<html xmlns:fb=\"http://ww...   \n",
       "2  \\n<!DOCTYPE html>\\n\\n<html xmlns:fb=\"http://ww...   \n",
       "3  \\n<!DOCTYPE html>\\n\\n<html xmlns:fb=\"http://ww...   \n",
       "4  \\n<!DOCTYPE html>\\n\\n<html xmlns:fb=\"http://ww...   \n",
       "\n",
       "                                             CONTENT  \\\n",
       "0  It might have been an error on Disney's part t...   \n",
       "1  Writing this with bated breath waiting on epis...   \n",
       "2  One might wonder that the above adjectives do ...   \n",
       "3  I can't speak for the reviews that bash this s...   \n",
       "4  What a waste $25 Million Dollars A episode don...   \n",
       "\n",
       "                                            NP_CHUNK  cluster  \n",
       "0  ['It', 'an', 'error', 'Disney', 'part', 'episo...        1  \n",
       "1  ['bated', 'breath', 'episode', 'The', 'whole',...        1  \n",
       "2  ['the', 'above', 'adjectives', 'the', 'Marvel'...        0  \n",
       "3  ['I', 'the', 'reviews', 'this', 'show', 'three...        0  \n",
       "4  ['a', 'waste', '25', 'Million', 'Dollars', 'A'...        0  "
      ]
     },
     "execution_count": 95,
     "metadata": {},
     "output_type": "execute_result"
    }
   ],
   "source": [
    "reviews.head()"
   ]
  },
  {
   "cell_type": "code",
   "execution_count": 96,
   "metadata": {},
   "outputs": [],
   "source": [
    "reviews['cluster'] = review_cl['cluster']\n",
    "reviews.to_csv(r'parsed_reviews_clustered4.csv', index = False)"
   ]
  },
  {
   "cell_type": "markdown",
   "metadata": {},
   "source": [
    "Short Reviews, mostly negative"
   ]
  },
  {
   "cell_type": "code",
   "execution_count": 97,
   "metadata": {},
   "outputs": [],
   "source": [
    "filter0 = review_cl['cluster']==0\n",
    "review0 = review_cl.copy()\n",
    "review0.where(filter0, inplace = True)\n",
    "#review0.dropna()"
   ]
  },
  {
   "cell_type": "markdown",
   "metadata": {},
   "source": [
    "I blame SOciety, Low Reviews, or Talking about negative parts of show and telling you to keep watching because it's great"
   ]
  },
  {
   "cell_type": "code",
   "execution_count": 98,
   "metadata": {},
   "outputs": [],
   "source": [
    "filter1 = review_cl['cluster']==1\n",
    "review1 = review_cl.copy()\n",
    "review1.where(filter1, inplace = True)\n",
    "#review1.dropna()"
   ]
  },
  {
   "cell_type": "markdown",
   "metadata": {},
   "source": [
    "Positive words even in the negative reviews that mention 'brilliant' or 'Amazing---ly Awful'"
   ]
  },
  {
   "cell_type": "code",
   "execution_count": 99,
   "metadata": {},
   "outputs": [],
   "source": [
    "filter2 = review_cl['cluster']==2\n",
    "review2 = review_cl.copy()\n",
    "review2.where(filter2, inplace = True)\n",
    "#review2.dropna()"
   ]
  },
  {
   "cell_type": "markdown",
   "metadata": {},
   "source": [
    "All from Coming to America"
   ]
  },
  {
   "cell_type": "code",
   "execution_count": 100,
   "metadata": {},
   "outputs": [],
   "source": [
    "filter3 = review_cl['cluster']==3\n",
    "review3 = review_cl.copy()\n",
    "review3.where(filter3, inplace = True)\n",
    "#review3.dropna()"
   ]
  },
  {
   "cell_type": "markdown",
   "metadata": {},
   "source": [
    "# K-Means 6"
   ]
  },
  {
   "cell_type": "code",
   "execution_count": 101,
   "metadata": {},
   "outputs": [],
   "source": [
    "\n",
    "true_k = 6\n",
    "model6 = KMeans(n_clusters=true_k, init='k-means++', max_iter=200, n_init=10)\n",
    "model6.fit(X)\n",
    "labels6=model6.labels_\n",
    "review_cl6=pd.DataFrame(list(zip(title,labels6)),columns=['title','cluster'])"
   ]
  },
  {
   "cell_type": "code",
   "execution_count": 102,
   "metadata": {},
   "outputs": [],
   "source": [
    "reviews['cluster'] = review_cl6['cluster']\n",
    "reviews.to_csv(r'parsed_reviews_clustered6.csv', index = False)"
   ]
  },
  {
   "cell_type": "markdown",
   "metadata": {},
   "source": [
    "Mostly negative MidSized reviews\n",
    "Even positives point out negatives"
   ]
  },
  {
   "cell_type": "code",
   "execution_count": 109,
   "metadata": {},
   "outputs": [
    {
     "data": {
      "text/html": [
       "<div>\n",
       "<style scoped>\n",
       "    .dataframe tbody tr th:only-of-type {\n",
       "        vertical-align: middle;\n",
       "    }\n",
       "\n",
       "    .dataframe tbody tr th {\n",
       "        vertical-align: top;\n",
       "    }\n",
       "\n",
       "    .dataframe thead th {\n",
       "        text-align: right;\n",
       "    }\n",
       "</style>\n",
       "<table border=\"1\" class=\"dataframe\">\n",
       "  <thead>\n",
       "    <tr style=\"text-align: right;\">\n",
       "      <th></th>\n",
       "      <th>title</th>\n",
       "      <th>cluster</th>\n",
       "    </tr>\n",
       "  </thead>\n",
       "  <tbody>\n",
       "    <tr>\n",
       "      <th>6</th>\n",
       "      <td>https://www.imdb.com/review/rw6479311/?ref_=tt...</td>\n",
       "      <td>0.0</td>\n",
       "    </tr>\n",
       "    <tr>\n",
       "      <th>27</th>\n",
       "      <td>https://www.imdb.com/review/rw1462409/?ref_=tt...</td>\n",
       "      <td>0.0</td>\n",
       "    </tr>\n",
       "    <tr>\n",
       "      <th>28</th>\n",
       "      <td>https://www.imdb.com/review/rw1568963/?ref_=tt...</td>\n",
       "      <td>0.0</td>\n",
       "    </tr>\n",
       "    <tr>\n",
       "      <th>47</th>\n",
       "      <td>https://www.imdb.com/review/rw6599337/?ref_=tt...</td>\n",
       "      <td>0.0</td>\n",
       "    </tr>\n",
       "    <tr>\n",
       "      <th>73</th>\n",
       "      <td>https://www.imdb.com/review/rw6624374/?ref_=tt...</td>\n",
       "      <td>0.0</td>\n",
       "    </tr>\n",
       "    <tr>\n",
       "      <th>74</th>\n",
       "      <td>https://www.imdb.com/review/rw5866146/?ref_=tt...</td>\n",
       "      <td>0.0</td>\n",
       "    </tr>\n",
       "  </tbody>\n",
       "</table>\n",
       "</div>"
      ],
      "text/plain": [
       "                                                title  cluster\n",
       "6   https://www.imdb.com/review/rw6479311/?ref_=tt...      0.0\n",
       "27  https://www.imdb.com/review/rw1462409/?ref_=tt...      0.0\n",
       "28  https://www.imdb.com/review/rw1568963/?ref_=tt...      0.0\n",
       "47  https://www.imdb.com/review/rw6599337/?ref_=tt...      0.0\n",
       "73  https://www.imdb.com/review/rw6624374/?ref_=tt...      0.0\n",
       "74  https://www.imdb.com/review/rw5866146/?ref_=tt...      0.0"
      ]
     },
     "execution_count": 109,
     "metadata": {},
     "output_type": "execute_result"
    }
   ],
   "source": [
    "reviews_cl6 = pd.read_csv(\"parsed_reviews_clustered6.csv\")\n",
    "filter0 = review_cl6['cluster']==0\n",
    "review0 = review_cl6.copy()\n",
    "review0.where(filter0, inplace = True)\n",
    "review0.dropna()"
   ]
  },
  {
   "cell_type": "markdown",
   "metadata": {},
   "source": [
    "Mostly negative and Luke-warm reviews"
   ]
  },
  {
   "cell_type": "code",
   "execution_count": 110,
   "metadata": {},
   "outputs": [
    {
     "data": {
      "text/html": [
       "<div>\n",
       "<style scoped>\n",
       "    .dataframe tbody tr th:only-of-type {\n",
       "        vertical-align: middle;\n",
       "    }\n",
       "\n",
       "    .dataframe tbody tr th {\n",
       "        vertical-align: top;\n",
       "    }\n",
       "\n",
       "    .dataframe thead th {\n",
       "        text-align: right;\n",
       "    }\n",
       "</style>\n",
       "<table border=\"1\" class=\"dataframe\">\n",
       "  <thead>\n",
       "    <tr style=\"text-align: right;\">\n",
       "      <th></th>\n",
       "      <th>title</th>\n",
       "      <th>cluster</th>\n",
       "    </tr>\n",
       "  </thead>\n",
       "  <tbody>\n",
       "    <tr>\n",
       "      <th>0</th>\n",
       "      <td>https://www.imdb.com/review/rw6540019/?ref_=tt...</td>\n",
       "      <td>1.0</td>\n",
       "    </tr>\n",
       "    <tr>\n",
       "      <th>11</th>\n",
       "      <td>https://www.imdb.com/review/rw4414989/?ref_=tt...</td>\n",
       "      <td>1.0</td>\n",
       "    </tr>\n",
       "    <tr>\n",
       "      <th>15</th>\n",
       "      <td>https://www.imdb.com/review/rw3711587/?ref_=tt...</td>\n",
       "      <td>1.0</td>\n",
       "    </tr>\n",
       "    <tr>\n",
       "      <th>17</th>\n",
       "      <td>https://www.imdb.com/review/rw4599357/?ref_=tt...</td>\n",
       "      <td>1.0</td>\n",
       "    </tr>\n",
       "    <tr>\n",
       "      <th>23</th>\n",
       "      <td>https://www.imdb.com/review/rw1573220/?ref_=tt...</td>\n",
       "      <td>1.0</td>\n",
       "    </tr>\n",
       "    <tr>\n",
       "      <th>24</th>\n",
       "      <td>https://www.imdb.com/review/rw6546669/?ref_=tt...</td>\n",
       "      <td>1.0</td>\n",
       "    </tr>\n",
       "    <tr>\n",
       "      <th>26</th>\n",
       "      <td>https://www.imdb.com/review/rw1050037/?ref_=tt...</td>\n",
       "      <td>1.0</td>\n",
       "    </tr>\n",
       "    <tr>\n",
       "      <th>29</th>\n",
       "      <td>https://www.imdb.com/review/rw1046363/?ref_=tt...</td>\n",
       "      <td>1.0</td>\n",
       "    </tr>\n",
       "    <tr>\n",
       "      <th>33</th>\n",
       "      <td>https://www.imdb.com/review/rw2141168/?ref_=tt...</td>\n",
       "      <td>1.0</td>\n",
       "    </tr>\n",
       "    <tr>\n",
       "      <th>38</th>\n",
       "      <td>https://www.imdb.com/review/rw2562681/?ref_=tt...</td>\n",
       "      <td>1.0</td>\n",
       "    </tr>\n",
       "    <tr>\n",
       "      <th>39</th>\n",
       "      <td>https://www.imdb.com/review/rw5629272/?ref_=tt...</td>\n",
       "      <td>1.0</td>\n",
       "    </tr>\n",
       "    <tr>\n",
       "      <th>40</th>\n",
       "      <td>https://www.imdb.com/review/rw6445335/?ref_=tt...</td>\n",
       "      <td>1.0</td>\n",
       "    </tr>\n",
       "    <tr>\n",
       "      <th>42</th>\n",
       "      <td>https://www.imdb.com/review/rw6607946/?ref_=tt...</td>\n",
       "      <td>1.0</td>\n",
       "    </tr>\n",
       "    <tr>\n",
       "      <th>43</th>\n",
       "      <td>https://www.imdb.com/review/rw6608599/?ref_=tt...</td>\n",
       "      <td>1.0</td>\n",
       "    </tr>\n",
       "    <tr>\n",
       "      <th>46</th>\n",
       "      <td>https://www.imdb.com/review/rw6602399/?ref_=tt...</td>\n",
       "      <td>1.0</td>\n",
       "    </tr>\n",
       "    <tr>\n",
       "      <th>48</th>\n",
       "      <td>https://www.imdb.com/review/rw6601559/?ref_=tt...</td>\n",
       "      <td>1.0</td>\n",
       "    </tr>\n",
       "    <tr>\n",
       "      <th>54</th>\n",
       "      <td>https://www.imdb.com/review/rw6097183/?ref_=tt...</td>\n",
       "      <td>1.0</td>\n",
       "    </tr>\n",
       "    <tr>\n",
       "      <th>55</th>\n",
       "      <td>https://www.imdb.com/review/rw1922675/?ref_=tt...</td>\n",
       "      <td>1.0</td>\n",
       "    </tr>\n",
       "    <tr>\n",
       "      <th>57</th>\n",
       "      <td>https://www.imdb.com/review/rw1848423/?ref_=tt...</td>\n",
       "      <td>1.0</td>\n",
       "    </tr>\n",
       "    <tr>\n",
       "      <th>60</th>\n",
       "      <td>https://www.imdb.com/review/rw4022211/?ref_=tt...</td>\n",
       "      <td>1.0</td>\n",
       "    </tr>\n",
       "    <tr>\n",
       "      <th>61</th>\n",
       "      <td>https://www.imdb.com/review/rw4210146/?ref_=tt...</td>\n",
       "      <td>1.0</td>\n",
       "    </tr>\n",
       "    <tr>\n",
       "      <th>63</th>\n",
       "      <td>https://www.imdb.com/review/rw4860134/?ref_=tt...</td>\n",
       "      <td>1.0</td>\n",
       "    </tr>\n",
       "    <tr>\n",
       "      <th>65</th>\n",
       "      <td>https://www.imdb.com/review/rw3209300/?ref_=tt...</td>\n",
       "      <td>1.0</td>\n",
       "    </tr>\n",
       "    <tr>\n",
       "      <th>66</th>\n",
       "      <td>https://www.imdb.com/review/rw3451270/?ref_=tt...</td>\n",
       "      <td>1.0</td>\n",
       "    </tr>\n",
       "    <tr>\n",
       "      <th>69</th>\n",
       "      <td>https://www.imdb.com/review/rw2942893/?ref_=tt...</td>\n",
       "      <td>1.0</td>\n",
       "    </tr>\n",
       "    <tr>\n",
       "      <th>76</th>\n",
       "      <td>https://www.imdb.com/review/rw4217243/?ref_=tt...</td>\n",
       "      <td>1.0</td>\n",
       "    </tr>\n",
       "    <tr>\n",
       "      <th>78</th>\n",
       "      <td>https://www.imdb.com/review/rw5887704/?ref_=tt...</td>\n",
       "      <td>1.0</td>\n",
       "    </tr>\n",
       "    <tr>\n",
       "      <th>81</th>\n",
       "      <td>https://www.imdb.com/review/rw2153933/?ref_=tt...</td>\n",
       "      <td>1.0</td>\n",
       "    </tr>\n",
       "    <tr>\n",
       "      <th>91</th>\n",
       "      <td>https://www.imdb.com/review/rw2150375/?ref_=tt...</td>\n",
       "      <td>1.0</td>\n",
       "    </tr>\n",
       "    <tr>\n",
       "      <th>98</th>\n",
       "      <td>https://www.imdb.com/review/rw0255632/?ref_=tt...</td>\n",
       "      <td>1.0</td>\n",
       "    </tr>\n",
       "  </tbody>\n",
       "</table>\n",
       "</div>"
      ],
      "text/plain": [
       "                                                title  cluster\n",
       "0   https://www.imdb.com/review/rw6540019/?ref_=tt...      1.0\n",
       "11  https://www.imdb.com/review/rw4414989/?ref_=tt...      1.0\n",
       "15  https://www.imdb.com/review/rw3711587/?ref_=tt...      1.0\n",
       "17  https://www.imdb.com/review/rw4599357/?ref_=tt...      1.0\n",
       "23  https://www.imdb.com/review/rw1573220/?ref_=tt...      1.0\n",
       "24  https://www.imdb.com/review/rw6546669/?ref_=tt...      1.0\n",
       "26  https://www.imdb.com/review/rw1050037/?ref_=tt...      1.0\n",
       "29  https://www.imdb.com/review/rw1046363/?ref_=tt...      1.0\n",
       "33  https://www.imdb.com/review/rw2141168/?ref_=tt...      1.0\n",
       "38  https://www.imdb.com/review/rw2562681/?ref_=tt...      1.0\n",
       "39  https://www.imdb.com/review/rw5629272/?ref_=tt...      1.0\n",
       "40  https://www.imdb.com/review/rw6445335/?ref_=tt...      1.0\n",
       "42  https://www.imdb.com/review/rw6607946/?ref_=tt...      1.0\n",
       "43  https://www.imdb.com/review/rw6608599/?ref_=tt...      1.0\n",
       "46  https://www.imdb.com/review/rw6602399/?ref_=tt...      1.0\n",
       "48  https://www.imdb.com/review/rw6601559/?ref_=tt...      1.0\n",
       "54  https://www.imdb.com/review/rw6097183/?ref_=tt...      1.0\n",
       "55  https://www.imdb.com/review/rw1922675/?ref_=tt...      1.0\n",
       "57  https://www.imdb.com/review/rw1848423/?ref_=tt...      1.0\n",
       "60  https://www.imdb.com/review/rw4022211/?ref_=tt...      1.0\n",
       "61  https://www.imdb.com/review/rw4210146/?ref_=tt...      1.0\n",
       "63  https://www.imdb.com/review/rw4860134/?ref_=tt...      1.0\n",
       "65  https://www.imdb.com/review/rw3209300/?ref_=tt...      1.0\n",
       "66  https://www.imdb.com/review/rw3451270/?ref_=tt...      1.0\n",
       "69  https://www.imdb.com/review/rw2942893/?ref_=tt...      1.0\n",
       "76  https://www.imdb.com/review/rw4217243/?ref_=tt...      1.0\n",
       "78  https://www.imdb.com/review/rw5887704/?ref_=tt...      1.0\n",
       "81  https://www.imdb.com/review/rw2153933/?ref_=tt...      1.0\n",
       "91  https://www.imdb.com/review/rw2150375/?ref_=tt...      1.0\n",
       "98  https://www.imdb.com/review/rw0255632/?ref_=tt...      1.0"
      ]
     },
     "execution_count": 110,
     "metadata": {},
     "output_type": "execute_result"
    }
   ],
   "source": [
    "filter1 = review_cl6['cluster']==1\n",
    "review1 = review_cl6.copy()\n",
    "review1.where(filter1, inplace = True)\n",
    "review1.dropna()"
   ]
  },
  {
   "cell_type": "markdown",
   "metadata": {},
   "source": [
    "Short reviews, positive for the dark comedy and negative on the regular comedies"
   ]
  },
  {
   "cell_type": "code",
   "execution_count": 111,
   "metadata": {},
   "outputs": [
    {
     "data": {
      "text/html": [
       "<div>\n",
       "<style scoped>\n",
       "    .dataframe tbody tr th:only-of-type {\n",
       "        vertical-align: middle;\n",
       "    }\n",
       "\n",
       "    .dataframe tbody tr th {\n",
       "        vertical-align: top;\n",
       "    }\n",
       "\n",
       "    .dataframe thead th {\n",
       "        text-align: right;\n",
       "    }\n",
       "</style>\n",
       "<table border=\"1\" class=\"dataframe\">\n",
       "  <thead>\n",
       "    <tr style=\"text-align: right;\">\n",
       "      <th></th>\n",
       "      <th>title</th>\n",
       "      <th>cluster</th>\n",
       "    </tr>\n",
       "  </thead>\n",
       "  <tbody>\n",
       "    <tr>\n",
       "      <th>10</th>\n",
       "      <td>https://www.imdb.com/review/rw6478664/?ref_=tt...</td>\n",
       "      <td>2.0</td>\n",
       "    </tr>\n",
       "    <tr>\n",
       "      <th>13</th>\n",
       "      <td>https://www.imdb.com/review/rw6300852/?ref_=tt...</td>\n",
       "      <td>2.0</td>\n",
       "    </tr>\n",
       "    <tr>\n",
       "      <th>14</th>\n",
       "      <td>https://www.imdb.com/review/rw3171646/?ref_=tt...</td>\n",
       "      <td>2.0</td>\n",
       "    </tr>\n",
       "    <tr>\n",
       "      <th>19</th>\n",
       "      <td>https://www.imdb.com/review/rw3783688/?ref_=tt...</td>\n",
       "      <td>2.0</td>\n",
       "    </tr>\n",
       "    <tr>\n",
       "      <th>34</th>\n",
       "      <td>https://www.imdb.com/review/rw4845953/?ref_=tt...</td>\n",
       "      <td>2.0</td>\n",
       "    </tr>\n",
       "    <tr>\n",
       "      <th>45</th>\n",
       "      <td>https://www.imdb.com/review/rw6606475/?ref_=tt...</td>\n",
       "      <td>2.0</td>\n",
       "    </tr>\n",
       "    <tr>\n",
       "      <th>49</th>\n",
       "      <td>https://www.imdb.com/review/rw6599420/?ref_=tt...</td>\n",
       "      <td>2.0</td>\n",
       "    </tr>\n",
       "    <tr>\n",
       "      <th>62</th>\n",
       "      <td>https://www.imdb.com/review/rw2891599/?ref_=tt...</td>\n",
       "      <td>2.0</td>\n",
       "    </tr>\n",
       "    <tr>\n",
       "      <th>77</th>\n",
       "      <td>https://www.imdb.com/review/rw5534894/?ref_=tt...</td>\n",
       "      <td>2.0</td>\n",
       "    </tr>\n",
       "  </tbody>\n",
       "</table>\n",
       "</div>"
      ],
      "text/plain": [
       "                                                title  cluster\n",
       "10  https://www.imdb.com/review/rw6478664/?ref_=tt...      2.0\n",
       "13  https://www.imdb.com/review/rw6300852/?ref_=tt...      2.0\n",
       "14  https://www.imdb.com/review/rw3171646/?ref_=tt...      2.0\n",
       "19  https://www.imdb.com/review/rw3783688/?ref_=tt...      2.0\n",
       "34  https://www.imdb.com/review/rw4845953/?ref_=tt...      2.0\n",
       "45  https://www.imdb.com/review/rw6606475/?ref_=tt...      2.0\n",
       "49  https://www.imdb.com/review/rw6599420/?ref_=tt...      2.0\n",
       "62  https://www.imdb.com/review/rw2891599/?ref_=tt...      2.0\n",
       "77  https://www.imdb.com/review/rw5534894/?ref_=tt...      2.0"
      ]
     },
     "execution_count": 111,
     "metadata": {},
     "output_type": "execute_result"
    }
   ],
   "source": [
    "filter2 = review_cl6['cluster']==2\n",
    "review2 = review_cl6.copy()\n",
    "review2.where(filter2, inplace = True)\n",
    "review2.dropna()"
   ]
  },
  {
   "cell_type": "markdown",
   "metadata": {},
   "source": [
    "WandaVision, Schitt's Creek, Office, Modern Family, Crew, Brooklyn 99, Parks and Rec, Community\n",
    "Mostly Positive, even the negative reviews are softer: \n",
    "'The premise is cute and the movie seemed like it was going places'"
   ]
  },
  {
   "cell_type": "code",
   "execution_count": 112,
   "metadata": {},
   "outputs": [
    {
     "data": {
      "text/html": [
       "<div>\n",
       "<style scoped>\n",
       "    .dataframe tbody tr th:only-of-type {\n",
       "        vertical-align: middle;\n",
       "    }\n",
       "\n",
       "    .dataframe tbody tr th {\n",
       "        vertical-align: top;\n",
       "    }\n",
       "\n",
       "    .dataframe thead th {\n",
       "        text-align: right;\n",
       "    }\n",
       "</style>\n",
       "<table border=\"1\" class=\"dataframe\">\n",
       "  <thead>\n",
       "    <tr style=\"text-align: right;\">\n",
       "      <th></th>\n",
       "      <th>title</th>\n",
       "      <th>cluster</th>\n",
       "    </tr>\n",
       "  </thead>\n",
       "  <tbody>\n",
       "    <tr>\n",
       "      <th>1</th>\n",
       "      <td>https://www.imdb.com/review/rw6562703/?ref_=tt...</td>\n",
       "      <td>3.0</td>\n",
       "    </tr>\n",
       "    <tr>\n",
       "      <th>2</th>\n",
       "      <td>https://www.imdb.com/review/rw6650913/?ref_=tt...</td>\n",
       "      <td>3.0</td>\n",
       "    </tr>\n",
       "    <tr>\n",
       "      <th>3</th>\n",
       "      <td>https://www.imdb.com/review/rw6603814/?ref_=tt...</td>\n",
       "      <td>3.0</td>\n",
       "    </tr>\n",
       "    <tr>\n",
       "      <th>4</th>\n",
       "      <td>https://www.imdb.com/review/rw6479388/?ref_=tt...</td>\n",
       "      <td>3.0</td>\n",
       "    </tr>\n",
       "    <tr>\n",
       "      <th>5</th>\n",
       "      <td>https://www.imdb.com/review/rw6479456/?ref_=tt...</td>\n",
       "      <td>3.0</td>\n",
       "    </tr>\n",
       "    <tr>\n",
       "      <th>7</th>\n",
       "      <td>https://www.imdb.com/review/rw6479391/?ref_=tt...</td>\n",
       "      <td>3.0</td>\n",
       "    </tr>\n",
       "    <tr>\n",
       "      <th>8</th>\n",
       "      <td>https://www.imdb.com/review/rw6504712/?ref_=tt...</td>\n",
       "      <td>3.0</td>\n",
       "    </tr>\n",
       "    <tr>\n",
       "      <th>9</th>\n",
       "      <td>https://www.imdb.com/review/rw6641641/?ref_=tt...</td>\n",
       "      <td>3.0</td>\n",
       "    </tr>\n",
       "    <tr>\n",
       "      <th>12</th>\n",
       "      <td>https://www.imdb.com/review/rw3174778/?ref_=tt...</td>\n",
       "      <td>3.0</td>\n",
       "    </tr>\n",
       "    <tr>\n",
       "      <th>16</th>\n",
       "      <td>https://www.imdb.com/review/rw3413107/?ref_=tt...</td>\n",
       "      <td>3.0</td>\n",
       "    </tr>\n",
       "    <tr>\n",
       "      <th>21</th>\n",
       "      <td>https://www.imdb.com/review/rw2933046/?ref_=tt...</td>\n",
       "      <td>3.0</td>\n",
       "    </tr>\n",
       "    <tr>\n",
       "      <th>22</th>\n",
       "      <td>https://www.imdb.com/review/rw2427230/?ref_=tt...</td>\n",
       "      <td>3.0</td>\n",
       "    </tr>\n",
       "    <tr>\n",
       "      <th>25</th>\n",
       "      <td>https://www.imdb.com/review/rw1049005/?ref_=tt...</td>\n",
       "      <td>3.0</td>\n",
       "    </tr>\n",
       "    <tr>\n",
       "      <th>30</th>\n",
       "      <td>https://www.imdb.com/review/rw1046924/?ref_=tt...</td>\n",
       "      <td>3.0</td>\n",
       "    </tr>\n",
       "    <tr>\n",
       "      <th>31</th>\n",
       "      <td>https://www.imdb.com/review/rw5522295/?ref_=tt...</td>\n",
       "      <td>3.0</td>\n",
       "    </tr>\n",
       "    <tr>\n",
       "      <th>32</th>\n",
       "      <td>https://www.imdb.com/review/rw2144017/?ref_=tt...</td>\n",
       "      <td>3.0</td>\n",
       "    </tr>\n",
       "    <tr>\n",
       "      <th>35</th>\n",
       "      <td>https://www.imdb.com/review/rw4679523/?ref_=tt...</td>\n",
       "      <td>3.0</td>\n",
       "    </tr>\n",
       "    <tr>\n",
       "      <th>37</th>\n",
       "      <td>https://www.imdb.com/review/rw5238724/?ref_=tt...</td>\n",
       "      <td>3.0</td>\n",
       "    </tr>\n",
       "    <tr>\n",
       "      <th>41</th>\n",
       "      <td>https://www.imdb.com/review/rw6608387/?ref_=tt...</td>\n",
       "      <td>3.0</td>\n",
       "    </tr>\n",
       "    <tr>\n",
       "      <th>44</th>\n",
       "      <td>https://www.imdb.com/review/rw6602782/?ref_=tt...</td>\n",
       "      <td>3.0</td>\n",
       "    </tr>\n",
       "    <tr>\n",
       "      <th>50</th>\n",
       "      <td>https://www.imdb.com/review/rw6603234/?ref_=tt...</td>\n",
       "      <td>3.0</td>\n",
       "    </tr>\n",
       "    <tr>\n",
       "      <th>51</th>\n",
       "      <td>https://www.imdb.com/review/rw1135261/?ref_=tt...</td>\n",
       "      <td>3.0</td>\n",
       "    </tr>\n",
       "    <tr>\n",
       "      <th>53</th>\n",
       "      <td>https://www.imdb.com/review/rw2006479/?ref_=tt...</td>\n",
       "      <td>3.0</td>\n",
       "    </tr>\n",
       "    <tr>\n",
       "      <th>56</th>\n",
       "      <td>https://www.imdb.com/review/rw1476221/?ref_=tt...</td>\n",
       "      <td>3.0</td>\n",
       "    </tr>\n",
       "    <tr>\n",
       "      <th>58</th>\n",
       "      <td>https://www.imdb.com/review/rw1922098/?ref_=tt...</td>\n",
       "      <td>3.0</td>\n",
       "    </tr>\n",
       "    <tr>\n",
       "      <th>59</th>\n",
       "      <td>https://www.imdb.com/review/rw3721424/?ref_=tt...</td>\n",
       "      <td>3.0</td>\n",
       "    </tr>\n",
       "    <tr>\n",
       "      <th>64</th>\n",
       "      <td>https://www.imdb.com/review/rw2872724/?ref_=tt...</td>\n",
       "      <td>3.0</td>\n",
       "    </tr>\n",
       "    <tr>\n",
       "      <th>67</th>\n",
       "      <td>https://www.imdb.com/review/rw2958172/?ref_=tt...</td>\n",
       "      <td>3.0</td>\n",
       "    </tr>\n",
       "    <tr>\n",
       "      <th>68</th>\n",
       "      <td>https://www.imdb.com/review/rw4676842/?ref_=tt...</td>\n",
       "      <td>3.0</td>\n",
       "    </tr>\n",
       "    <tr>\n",
       "      <th>70</th>\n",
       "      <td>https://www.imdb.com/review/rw6604884/?ref_=tt...</td>\n",
       "      <td>3.0</td>\n",
       "    </tr>\n",
       "    <tr>\n",
       "      <th>72</th>\n",
       "      <td>https://www.imdb.com/review/rw6616706/?ref_=tt...</td>\n",
       "      <td>3.0</td>\n",
       "    </tr>\n",
       "    <tr>\n",
       "      <th>75</th>\n",
       "      <td>https://www.imdb.com/review/rw6605769/?ref_=tt...</td>\n",
       "      <td>3.0</td>\n",
       "    </tr>\n",
       "    <tr>\n",
       "      <th>79</th>\n",
       "      <td>https://www.imdb.com/review/rw2197949/?ref_=tt...</td>\n",
       "      <td>3.0</td>\n",
       "    </tr>\n",
       "    <tr>\n",
       "      <th>82</th>\n",
       "      <td>https://www.imdb.com/review/rw2148816/?ref_=tt...</td>\n",
       "      <td>3.0</td>\n",
       "    </tr>\n",
       "    <tr>\n",
       "      <th>86</th>\n",
       "      <td>https://www.imdb.com/review/rw5037581/?ref_=tt...</td>\n",
       "      <td>3.0</td>\n",
       "    </tr>\n",
       "    <tr>\n",
       "      <th>90</th>\n",
       "      <td>https://www.imdb.com/review/rw2635379/?ref_=tt...</td>\n",
       "      <td>3.0</td>\n",
       "    </tr>\n",
       "    <tr>\n",
       "      <th>92</th>\n",
       "      <td>https://www.imdb.com/review/rw2350709/?ref_=tt...</td>\n",
       "      <td>3.0</td>\n",
       "    </tr>\n",
       "    <tr>\n",
       "      <th>93</th>\n",
       "      <td>https://www.imdb.com/review/rw2622107/?ref_=tt...</td>\n",
       "      <td>3.0</td>\n",
       "    </tr>\n",
       "    <tr>\n",
       "      <th>94</th>\n",
       "      <td>https://www.imdb.com/review/rw3076188/?ref_=tt...</td>\n",
       "      <td>3.0</td>\n",
       "    </tr>\n",
       "    <tr>\n",
       "      <th>95</th>\n",
       "      <td>https://www.imdb.com/review/rw2525854/?ref_=tt...</td>\n",
       "      <td>3.0</td>\n",
       "    </tr>\n",
       "  </tbody>\n",
       "</table>\n",
       "</div>"
      ],
      "text/plain": [
       "                                                title  cluster\n",
       "1   https://www.imdb.com/review/rw6562703/?ref_=tt...      3.0\n",
       "2   https://www.imdb.com/review/rw6650913/?ref_=tt...      3.0\n",
       "3   https://www.imdb.com/review/rw6603814/?ref_=tt...      3.0\n",
       "4   https://www.imdb.com/review/rw6479388/?ref_=tt...      3.0\n",
       "5   https://www.imdb.com/review/rw6479456/?ref_=tt...      3.0\n",
       "7   https://www.imdb.com/review/rw6479391/?ref_=tt...      3.0\n",
       "8   https://www.imdb.com/review/rw6504712/?ref_=tt...      3.0\n",
       "9   https://www.imdb.com/review/rw6641641/?ref_=tt...      3.0\n",
       "12  https://www.imdb.com/review/rw3174778/?ref_=tt...      3.0\n",
       "16  https://www.imdb.com/review/rw3413107/?ref_=tt...      3.0\n",
       "21  https://www.imdb.com/review/rw2933046/?ref_=tt...      3.0\n",
       "22  https://www.imdb.com/review/rw2427230/?ref_=tt...      3.0\n",
       "25  https://www.imdb.com/review/rw1049005/?ref_=tt...      3.0\n",
       "30  https://www.imdb.com/review/rw1046924/?ref_=tt...      3.0\n",
       "31  https://www.imdb.com/review/rw5522295/?ref_=tt...      3.0\n",
       "32  https://www.imdb.com/review/rw2144017/?ref_=tt...      3.0\n",
       "35  https://www.imdb.com/review/rw4679523/?ref_=tt...      3.0\n",
       "37  https://www.imdb.com/review/rw5238724/?ref_=tt...      3.0\n",
       "41  https://www.imdb.com/review/rw6608387/?ref_=tt...      3.0\n",
       "44  https://www.imdb.com/review/rw6602782/?ref_=tt...      3.0\n",
       "50  https://www.imdb.com/review/rw6603234/?ref_=tt...      3.0\n",
       "51  https://www.imdb.com/review/rw1135261/?ref_=tt...      3.0\n",
       "53  https://www.imdb.com/review/rw2006479/?ref_=tt...      3.0\n",
       "56  https://www.imdb.com/review/rw1476221/?ref_=tt...      3.0\n",
       "58  https://www.imdb.com/review/rw1922098/?ref_=tt...      3.0\n",
       "59  https://www.imdb.com/review/rw3721424/?ref_=tt...      3.0\n",
       "64  https://www.imdb.com/review/rw2872724/?ref_=tt...      3.0\n",
       "67  https://www.imdb.com/review/rw2958172/?ref_=tt...      3.0\n",
       "68  https://www.imdb.com/review/rw4676842/?ref_=tt...      3.0\n",
       "70  https://www.imdb.com/review/rw6604884/?ref_=tt...      3.0\n",
       "72  https://www.imdb.com/review/rw6616706/?ref_=tt...      3.0\n",
       "75  https://www.imdb.com/review/rw6605769/?ref_=tt...      3.0\n",
       "79  https://www.imdb.com/review/rw2197949/?ref_=tt...      3.0\n",
       "82  https://www.imdb.com/review/rw2148816/?ref_=tt...      3.0\n",
       "86  https://www.imdb.com/review/rw5037581/?ref_=tt...      3.0\n",
       "90  https://www.imdb.com/review/rw2635379/?ref_=tt...      3.0\n",
       "92  https://www.imdb.com/review/rw2350709/?ref_=tt...      3.0\n",
       "93  https://www.imdb.com/review/rw2622107/?ref_=tt...      3.0\n",
       "94  https://www.imdb.com/review/rw3076188/?ref_=tt...      3.0\n",
       "95  https://www.imdb.com/review/rw2525854/?ref_=tt...      3.0"
      ]
     },
     "execution_count": 112,
     "metadata": {},
     "output_type": "execute_result"
    }
   ],
   "source": [
    "filter3 = review_cl6['cluster']==3\n",
    "review3 = review_cl6.copy()\n",
    "review3.where(filter3, inplace = True)\n",
    "review3.dropna()"
   ]
  },
  {
   "cell_type": "markdown",
   "metadata": {},
   "source": [
    "Mostly Positive, Longer reviews\n",
    "Friends, Schitts Creek, Modern Family, Coming to America"
   ]
  },
  {
   "cell_type": "code",
   "execution_count": 113,
   "metadata": {},
   "outputs": [
    {
     "data": {
      "text/html": [
       "<div>\n",
       "<style scoped>\n",
       "    .dataframe tbody tr th:only-of-type {\n",
       "        vertical-align: middle;\n",
       "    }\n",
       "\n",
       "    .dataframe tbody tr th {\n",
       "        vertical-align: top;\n",
       "    }\n",
       "\n",
       "    .dataframe thead th {\n",
       "        text-align: right;\n",
       "    }\n",
       "</style>\n",
       "<table border=\"1\" class=\"dataframe\">\n",
       "  <thead>\n",
       "    <tr style=\"text-align: right;\">\n",
       "      <th></th>\n",
       "      <th>title</th>\n",
       "      <th>cluster</th>\n",
       "    </tr>\n",
       "  </thead>\n",
       "  <tbody>\n",
       "    <tr>\n",
       "      <th>18</th>\n",
       "      <td>https://www.imdb.com/review/rw6310104/?ref_=tt...</td>\n",
       "      <td>4.0</td>\n",
       "    </tr>\n",
       "    <tr>\n",
       "      <th>20</th>\n",
       "      <td>https://www.imdb.com/review/rw4270896/?ref_=tt...</td>\n",
       "      <td>4.0</td>\n",
       "    </tr>\n",
       "    <tr>\n",
       "      <th>36</th>\n",
       "      <td>https://www.imdb.com/review/rw2140109/?ref_=tt...</td>\n",
       "      <td>4.0</td>\n",
       "    </tr>\n",
       "    <tr>\n",
       "      <th>71</th>\n",
       "      <td>https://www.imdb.com/review/rw6597761/?ref_=tt...</td>\n",
       "      <td>4.0</td>\n",
       "    </tr>\n",
       "    <tr>\n",
       "      <th>89</th>\n",
       "      <td>https://www.imdb.com/review/rw2132626/?ref_=tt...</td>\n",
       "      <td>4.0</td>\n",
       "    </tr>\n",
       "    <tr>\n",
       "      <th>96</th>\n",
       "      <td>https://www.imdb.com/review/rw0255631/?ref_=tt...</td>\n",
       "      <td>4.0</td>\n",
       "    </tr>\n",
       "    <tr>\n",
       "      <th>97</th>\n",
       "      <td>https://www.imdb.com/review/rw1057459/?ref_=tt...</td>\n",
       "      <td>4.0</td>\n",
       "    </tr>\n",
       "    <tr>\n",
       "      <th>99</th>\n",
       "      <td>https://www.imdb.com/review/rw3242183/?ref_=tt...</td>\n",
       "      <td>4.0</td>\n",
       "    </tr>\n",
       "  </tbody>\n",
       "</table>\n",
       "</div>"
      ],
      "text/plain": [
       "                                                title  cluster\n",
       "18  https://www.imdb.com/review/rw6310104/?ref_=tt...      4.0\n",
       "20  https://www.imdb.com/review/rw4270896/?ref_=tt...      4.0\n",
       "36  https://www.imdb.com/review/rw2140109/?ref_=tt...      4.0\n",
       "71  https://www.imdb.com/review/rw6597761/?ref_=tt...      4.0\n",
       "89  https://www.imdb.com/review/rw2132626/?ref_=tt...      4.0\n",
       "96  https://www.imdb.com/review/rw0255631/?ref_=tt...      4.0\n",
       "97  https://www.imdb.com/review/rw1057459/?ref_=tt...      4.0\n",
       "99  https://www.imdb.com/review/rw3242183/?ref_=tt...      4.0"
      ]
     },
     "execution_count": 113,
     "metadata": {},
     "output_type": "execute_result"
    }
   ],
   "source": [
    "filter4 = review_cl6['cluster']==4\n",
    "review4 = review_cl6.copy()\n",
    "review4.where(filter4, inplace = True)\n",
    "review4.dropna()"
   ]
  },
  {
   "cell_type": "markdown",
   "metadata": {},
   "source": [
    "Two short reviews for I Blame Society"
   ]
  },
  {
   "cell_type": "code",
   "execution_count": 114,
   "metadata": {},
   "outputs": [
    {
     "data": {
      "text/html": [
       "<div>\n",
       "<style scoped>\n",
       "    .dataframe tbody tr th:only-of-type {\n",
       "        vertical-align: middle;\n",
       "    }\n",
       "\n",
       "    .dataframe tbody tr th {\n",
       "        vertical-align: top;\n",
       "    }\n",
       "\n",
       "    .dataframe thead th {\n",
       "        text-align: right;\n",
       "    }\n",
       "</style>\n",
       "<table border=\"1\" class=\"dataframe\">\n",
       "  <thead>\n",
       "    <tr style=\"text-align: right;\">\n",
       "      <th></th>\n",
       "      <th>title</th>\n",
       "      <th>cluster</th>\n",
       "    </tr>\n",
       "  </thead>\n",
       "  <tbody>\n",
       "    <tr>\n",
       "      <th>52</th>\n",
       "      <td>https://www.imdb.com/review/rw5578105/?ref_=tt...</td>\n",
       "      <td>5.0</td>\n",
       "    </tr>\n",
       "    <tr>\n",
       "      <th>80</th>\n",
       "      <td>https://www.imdb.com/review/rw2276639/?ref_=tt...</td>\n",
       "      <td>5.0</td>\n",
       "    </tr>\n",
       "    <tr>\n",
       "      <th>83</th>\n",
       "      <td>https://www.imdb.com/review/rw2056730/?ref_=tt...</td>\n",
       "      <td>5.0</td>\n",
       "    </tr>\n",
       "    <tr>\n",
       "      <th>84</th>\n",
       "      <td>https://www.imdb.com/review/rw2050373/?ref_=tt...</td>\n",
       "      <td>5.0</td>\n",
       "    </tr>\n",
       "    <tr>\n",
       "      <th>85</th>\n",
       "      <td>https://www.imdb.com/review/rw2054985/?ref_=tt...</td>\n",
       "      <td>5.0</td>\n",
       "    </tr>\n",
       "    <tr>\n",
       "      <th>87</th>\n",
       "      <td>https://www.imdb.com/review/rw2050158/?ref_=tt...</td>\n",
       "      <td>5.0</td>\n",
       "    </tr>\n",
       "    <tr>\n",
       "      <th>88</th>\n",
       "      <td>https://www.imdb.com/review/rw2793673/?ref_=tt...</td>\n",
       "      <td>5.0</td>\n",
       "    </tr>\n",
       "  </tbody>\n",
       "</table>\n",
       "</div>"
      ],
      "text/plain": [
       "                                                title  cluster\n",
       "52  https://www.imdb.com/review/rw5578105/?ref_=tt...      5.0\n",
       "80  https://www.imdb.com/review/rw2276639/?ref_=tt...      5.0\n",
       "83  https://www.imdb.com/review/rw2056730/?ref_=tt...      5.0\n",
       "84  https://www.imdb.com/review/rw2050373/?ref_=tt...      5.0\n",
       "85  https://www.imdb.com/review/rw2054985/?ref_=tt...      5.0\n",
       "87  https://www.imdb.com/review/rw2050158/?ref_=tt...      5.0\n",
       "88  https://www.imdb.com/review/rw2793673/?ref_=tt...      5.0"
      ]
     },
     "execution_count": 114,
     "metadata": {},
     "output_type": "execute_result"
    }
   ],
   "source": [
    "filter5 = review_cl6['cluster']==5\n",
    "review5 = review_cl6.copy()\n",
    "review5.where(filter5, inplace = True)\n",
    "review5.dropna()"
   ]
  },
  {
   "cell_type": "code",
   "execution_count": null,
   "metadata": {},
   "outputs": [],
   "source": []
  },
  {
   "cell_type": "code",
   "execution_count": null,
   "metadata": {},
   "outputs": [],
   "source": []
  },
  {
   "cell_type": "markdown",
   "metadata": {},
   "source": [
    "Submit all of your inputs and outputs and your code for this assignment, along with a brief written explanation of your findings.\n"
   ]
  },
  {
   "cell_type": "code",
   "execution_count": null,
   "metadata": {},
   "outputs": [],
   "source": []
  },
  {
   "cell_type": "code",
   "execution_count": 83,
   "metadata": {},
   "outputs": [
    {
     "data": {
      "image/png": "[encoded data removed]",
      "text/plain": [
       "<Figure size 432x288 with 1 Axes>"
      ]
     },
     "metadata": {
      "needs_background": "light"
     },
     "output_type": "display_data"
    }
   ],
   "source": [
    "plt.plot(K, Sum_of_squared_distances, 'bx-')\n",
    "plt.xlabel('k')\n",
    "plt.ylabel('Sum_of_squared_distances')\n",
    "plt.title('Elbow Method For Optimal k')\n",
    "plt.show()"
   ]
  },
  {
   "cell_type": "code",
   "execution_count": null,
   "metadata": {},
   "outputs": [],
   "source": []
  }
 ],
 "metadata": {
  "kernelspec": {
   "display_name": "Python 3",
   "language": "python",
   "name": "python3"
  },
  "language_info": {
   "codemirror_mode": {
    "name": "ipython",
    "version": 3
   },
   "file_extension": ".py",
   "mimetype": "text/x-python",
   "name": "python",
   "nbconvert_exporter": "python",
   "pygments_lexer": "ipython3",
   "version": "3.8.3"
  }
 },
 "nbformat": 4,
 "nbformat_minor": 4
}
